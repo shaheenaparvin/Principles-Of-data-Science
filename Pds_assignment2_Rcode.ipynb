{
  "nbformat": 4,
  "nbformat_minor": 0,
  "metadata": {
    "colab": {
      "provenance": [],
      "authorship_tag": "ABX9TyPaGGWX1+HZxwnH0OJ+wLMq",
      "include_colab_link": true
    },
    "kernelspec": {
      "name": "python3",
      "display_name": "Python 3"
    },
    "language_info": {
      "name": "python"
    }
  },
  "cells": [
    {
      "cell_type": "markdown",
      "metadata": {
        "id": "view-in-github",
        "colab_type": "text"
      },
      "source": [
        "<a href=\"https://colab.research.google.com/github/shaheenaparvin/Principles-Of-data-Science/blob/main/Pds_assignment2_Rcode.ipynb\" target=\"_parent\"><img src=\"https://colab.research.google.com/assets/colab-badge.svg\" alt=\"Open In Colab\"/></a>"
      ]
    },
    {
      "cell_type": "code",
      "execution_count": null,
      "metadata": {
        "colab": {
          "base_uri": "https://localhost:8080/"
        },
        "id": "rPKN9889t5Px",
        "outputId": "dd0984dd-ba3e-4bdd-f0c9-354499540f1b"
      },
      "outputs": [
        {
          "output_type": "stream",
          "name": "stdout",
          "text": [
            "The rpy2.ipython extension is already loaded. To reload it, use:\n",
            "  %reload_ext rpy2.ipython\n"
          ]
        }
      ],
      "source": [
        "%load_ext rpy2.ipython"
      ]
    },
    {
      "cell_type": "code",
      "source": [
        "%%R\n",
        "library(dplyr)\n",
        "cd <- read.csv(\"/content/cleaned_dataset.csv\")\n",
        "head(cd,5)\n"
      ],
      "metadata": {
        "colab": {
          "base_uri": "https://localhost:8080/"
        },
        "id": "sAhHADATuAiI",
        "outputId": "b51e8b26-67ba-4abd-ab5e-d2f43c936d13"
      },
      "execution_count": null,
      "outputs": [
        {
          "output_type": "stream",
          "name": "stdout",
          "text": [
            "  Unnamed..0                             Name   Location Year Kilometers_Driven\n",
            "1          1 Hyundai Creta 1.6 CRDi SX Option       Pune 2015             41000\n",
            "2          2                     Honda Jazz V    Chennai 2011             46000\n",
            "3          3                Maruti Ertiga VDI    Chennai 2012             87000\n",
            "4          4  Audi A4 New 2.0 TDI Multitronic Coimbatore 2013             40670\n",
            "5          6           Nissan Micra Diesel XV     Jaipur 2013             86999\n",
            "  Fuel_Type Transmission Owner_Type Mileage Engine  Power Seats New_Price Price\n",
            "1    Diesel       Manual      First   19.67   1582 126.20     5     20.54 12.50\n",
            "2    Petrol       Manual      First   18.16   1199  88.70     5      8.61  4.50\n",
            "3    Diesel       Manual      First   20.77   1248  88.76     7     20.54  6.00\n",
            "4    Diesel    Automatic     Second   15.20   1968 140.80     5     20.54 17.74\n",
            "5    Diesel       Manual      First   23.08   1461  63.10     5     20.54  3.50\n"
          ]
        }
      ]
    },
    {
      "cell_type": "code",
      "source": [
        "%%R\n",
        "# Load the dplyr package\n",
        "library(dplyr)\n",
        "\n",
        "# Create a new feature representing the current age of the car\n",
        "current_year <- 2024  # Current year\n",
        "cd <- cd %>%\n",
        "  mutate(Current_Age = current_year - Year)\n",
        "\n",
        "#head(df$Current_Age)\n",
        "glimpse(cd)"
      ],
      "metadata": {
        "colab": {
          "base_uri": "https://localhost:8080/"
        },
        "id": "GVfjDxa5uFI6",
        "outputId": "dce34080-bd11-4b82-9557-c0dae0c1b1d0"
      },
      "execution_count": null,
      "outputs": [
        {
          "output_type": "stream",
          "name": "stdout",
          "text": [
            "Rows: 5,847\n",
            "Columns: 15\n",
            "$ Unnamed..0        <int> 1, 2, 3, 4, 6, 7, 8, 9, 10, 11, 12, 13, 14, 15, 16, …\n",
            "$ Name              <chr> \"Hyundai Creta 1.6 CRDi SX Option\", \"Honda Jazz V\", …\n",
            "$ Location          <chr> \"Pune\", \"Chennai\", \"Chennai\", \"Coimbatore\", \"Jaipur\"…\n",
            "$ Year              <int> 2015, 2011, 2012, 2013, 2013, 2016, 2013, 2012, 2018…\n",
            "$ Kilometers_Driven <int> 41000, 46000, 87000, 40670, 86999, 36000, 64430, 659…\n",
            "$ Fuel_Type         <chr> \"Diesel\", \"Petrol\", \"Diesel\", \"Diesel\", \"Diesel\", \"D…\n",
            "$ Transmission      <chr> \"Manual\", \"Manual\", \"Manual\", \"Automatic\", \"Manual\",…\n",
            "$ Owner_Type        <chr> \"First\", \"First\", \"First\", \"Second\", \"First\", \"First…\n",
            "$ Mileage           <dbl> 19.67, 18.16, 20.77, 15.20, 23.08, 11.36, 20.54, 22.…\n",
            "$ Engine            <dbl> 1582, 1199, 1248, 1968, 1461, 2755, 1598, 1248, 1462…\n",
            "$ Power             <dbl> 126.20, 88.70, 88.76, 140.80, 63.10, 171.50, 103.60,…\n",
            "$ Seats             <dbl> 5, 5, 7, 5, 5, 8, 5, 5, 5, 5, 5, 5, 5, 7, 5, 5, 5, 5…\n",
            "$ New_Price         <dbl> 20.54, 8.61, 20.54, 20.54, 20.54, 20.54, 20.54, 20.5…\n",
            "$ Price             <dbl> 12.50, 4.50, 6.00, 17.74, 3.50, 17.50, 5.20, 1.95, 9…\n",
            "$ Current_Age       <dbl> 9, 13, 12, 11, 11, 8, 11, 12, 6, 12, 9, 10, 12, 10, …\n"
          ]
        }
      ]
    },
    {
      "cell_type": "code",
      "source": [
        "%%R\n",
        "\n",
        "action_Select <- select(cd, Name, Year, Kilometers_Driven, New_Price)\n",
        "\n",
        "head(action_Select,10)"
      ],
      "metadata": {
        "colab": {
          "base_uri": "https://localhost:8080/"
        },
        "id": "HfwAW34zuLbx",
        "outputId": "6caf559b-98c7-4e4c-e4f6-0f50ab746332"
      },
      "execution_count": null,
      "outputs": [
        {
          "output_type": "stream",
          "name": "stdout",
          "text": [
            "                                  Name Year Kilometers_Driven New_Price\n",
            "1     Hyundai Creta 1.6 CRDi SX Option 2015             41000     20.54\n",
            "2                         Honda Jazz V 2011             46000      8.61\n",
            "3                    Maruti Ertiga VDI 2012             87000     20.54\n",
            "4      Audi A4 New 2.0 TDI Multitronic 2013             40670     20.54\n",
            "5               Nissan Micra Diesel XV 2013             86999     20.54\n",
            "6    Toyota Innova Crysta 2.8 GX AT 8S 2016             36000     20.54\n",
            "7  Volkswagen Vento Diesel Comfortline 2013             64430     20.54\n",
            "8       Tata Indica Vista Quadrajet LS 2012             65932     20.54\n",
            "9                     Maruti Ciaz Zeta 2018             25692     10.65\n",
            "10         Honda City 1.5 V AT Sunroof 2012             60000     20.54\n"
          ]
        }
      ]
    },
    {
      "cell_type": "code",
      "source": [
        "%%R\n",
        "filtered_cd <- filter(cd, Year > 2015 ,Price > 10)\n",
        "head(filtered_cd,10)"
      ],
      "metadata": {
        "colab": {
          "base_uri": "https://localhost:8080/"
        },
        "id": "4UlMPEfzuS8V",
        "outputId": "4a647c03-1f02-4ca0-a369-af47f33969f2"
      },
      "execution_count": null,
      "outputs": [
        {
          "output_type": "stream",
          "name": "stdout",
          "text": [
            "   Unnamed..0                                     Name   Location Year\n",
            "1           7        Toyota Innova Crysta 2.8 GX AT 8S     Mumbai 2016\n",
            "2          45                Toyota Corolla Altis G AT     Mumbai 2016\n",
            "3          60        Toyota Innova Crysta 2.4 GX MT 8S     Mumbai 2017\n",
            "4          67 Mercedes-Benz C-Class Progressive C 220d Coimbatore 2019\n",
            "5          69          Hyundai Creta 1.4 E Plus Diesel     Mumbai 2018\n",
            "6          92         Audi A6 2011-2015 35 TDI Premium Coimbatore 2018\n",
            "7         110           Toyota Innova Crysta 2.8 ZX AT     Mumbai 2017\n",
            "8         122         Hyundai Verna CRDi 1.6 SX Option    Kolkata 2018\n",
            "9         131               Mahindra XUV500 AT W10 FWD     Jaipur 2016\n",
            "10        134                 Mercedes-Benz SLC 43 AMG    Kolkata 2017\n",
            "   Kilometers_Driven Fuel_Type Transmission Owner_Type Mileage Engine  Power\n",
            "1              36000    Diesel    Automatic      First   11.36   2755 171.50\n",
            "2              52001    Petrol    Automatic      First   14.28   1798 138.03\n",
            "3              22000    Diesel       Manual      First   13.68   2393 147.80\n",
            "4              15369    Diesel    Automatic      First    0.00   1950 107.35\n",
            "5              13000    Diesel       Manual      First   22.10   1396  88.70\n",
            "6              48367    Diesel    Automatic      First   17.68   1968 174.33\n",
            "7              30000    Diesel    Automatic      First   11.36   2755 171.50\n",
            "8              10250    Diesel       Manual      First   22.00   1582 126.20\n",
            "9              54000    Diesel    Automatic      First   16.00   2179 107.35\n",
            "10             13372    Petrol    Automatic      First   19.00   2996 362.07\n",
            "   Seats New_Price Price Current_Age\n",
            "1      8     20.54 17.50           8\n",
            "2      5     20.54 10.11           8\n",
            "3      8     19.34 16.50           7\n",
            "4      5     49.14 35.67           5\n",
            "5      5     11.81 10.50           6\n",
            "6      5     20.54 39.58           6\n",
            "7      7     20.54 19.25           7\n",
            "8      5     14.44 10.95           6\n",
            "9      7     20.54 13.25           8\n",
            "10     2     95.04 54.00           7\n"
          ]
        }
      ]
    },
    {
      "cell_type": "code",
      "source": [
        "%%R\n",
        "cd <- cd %>%\n",
        "mutate(Price_Category = cut(Price, breaks = c(0, 5, 10, 15, 20, Inf), labels = c(\"0-5\", \"5-10\", \"10-15\", \"15-20\", \"20+\")))\n",
        "\n",
        "glimpse(cd)"
      ],
      "metadata": {
        "colab": {
          "base_uri": "https://localhost:8080/"
        },
        "id": "MTiuGUituoch",
        "outputId": "05f134d1-6750-4cf0-f106-819b913bdfe4"
      },
      "execution_count": null,
      "outputs": [
        {
          "output_type": "stream",
          "name": "stdout",
          "text": [
            "Rows: 5,847\n",
            "Columns: 16\n",
            "$ Unnamed..0        <int> 1, 2, 3, 4, 6, 7, 8, 9, 10, 11, 12, 13, 14, 15, 16, …\n",
            "$ Name              <chr> \"Hyundai Creta 1.6 CRDi SX Option\", \"Honda Jazz V\", …\n",
            "$ Location          <chr> \"Pune\", \"Chennai\", \"Chennai\", \"Coimbatore\", \"Jaipur\"…\n",
            "$ Year              <int> 2015, 2011, 2012, 2013, 2013, 2016, 2013, 2012, 2018…\n",
            "$ Kilometers_Driven <int> 41000, 46000, 87000, 40670, 86999, 36000, 64430, 659…\n",
            "$ Fuel_Type         <chr> \"Diesel\", \"Petrol\", \"Diesel\", \"Diesel\", \"Diesel\", \"D…\n",
            "$ Transmission      <chr> \"Manual\", \"Manual\", \"Manual\", \"Automatic\", \"Manual\",…\n",
            "$ Owner_Type        <chr> \"First\", \"First\", \"First\", \"Second\", \"First\", \"First…\n",
            "$ Mileage           <dbl> 19.67, 18.16, 20.77, 15.20, 23.08, 11.36, 20.54, 22.…\n",
            "$ Engine            <dbl> 1582, 1199, 1248, 1968, 1461, 2755, 1598, 1248, 1462…\n",
            "$ Power             <dbl> 126.20, 88.70, 88.76, 140.80, 63.10, 171.50, 103.60,…\n",
            "$ Seats             <dbl> 5, 5, 7, 5, 5, 8, 5, 5, 5, 5, 5, 5, 5, 7, 5, 5, 5, 5…\n",
            "$ New_Price         <dbl> 20.54, 8.61, 20.54, 20.54, 20.54, 20.54, 20.54, 20.5…\n",
            "$ Price             <dbl> 12.50, 4.50, 6.00, 17.74, 3.50, 17.50, 5.20, 1.95, 9…\n",
            "$ Current_Age       <dbl> 9, 13, 12, 11, 11, 8, 11, 12, 6, 12, 9, 10, 12, 10, …\n",
            "$ Price_Category    <fct> 10-15, 0-5, 5-10, 15-20, 0-5, 15-20, 5-10, 0-5, 5-10…\n"
          ]
        }
      ]
    },
    {
      "cell_type": "code",
      "source": [
        "%%R\n",
        "\n",
        "arranged_df <- arrange(cd, desc(New_Price))\n",
        "\n",
        "head(arranged_df)\n"
      ],
      "metadata": {
        "colab": {
          "base_uri": "https://localhost:8080/"
        },
        "id": "tEeznY3pC8BZ",
        "outputId": "faa26e1d-ce80-4d50-a1bc-c1b75e4d3cae"
      },
      "execution_count": null,
      "outputs": [
        {
          "output_type": "stream",
          "name": "stdout",
          "text": [
            "  Unnamed..0                              Name   Location Year\n",
            "1       5009 Audi Q7 45 TDI Quattro Technology       Pune 2017\n",
            "2        418    Mercedes-Benz GLC 43 AMG Coupe Coimbatore 2018\n",
            "3        264            Mercedes-Benz GLE 350d Coimbatore 2017\n",
            "4       1690            Mercedes-Benz GLE 350d Coimbatore 2018\n",
            "5       1830            Mercedes-Benz GLE 350d Coimbatore 2017\n",
            "6       2767            Mercedes-Benz GLE 350d Coimbatore 2018\n",
            "  Kilometers_Driven Fuel_Type Transmission Owner_Type Mileage Engine  Power\n",
            "1             59500    Diesel    Automatic      First   14.75   2967 107.35\n",
            "2             22397    Petrol    Automatic      First   11.50   2996 107.35\n",
            "3             29819    Diesel    Automatic      First   11.57   2987 254.79\n",
            "4             40129    Diesel    Automatic      First   11.57   2987 254.79\n",
            "5             33552    Diesel    Automatic      First   11.57   2987 254.79\n",
            "6             30706    Diesel    Automatic      First   11.57   2987 254.79\n",
            "  Seats New_Price Price Current_Age\n",
            "1     7     99.92 68.00           7\n",
            "2     5     95.38 70.99           6\n",
            "3     5     95.13 61.29           7\n",
            "4     5     95.13 70.80           6\n",
            "5     5     95.13 64.87           7\n",
            "6     5     95.13 59.29           6\n"
          ]
        }
      ]
    },
    {
      "cell_type": "code",
      "source": [
        "%%R\n",
        "summary_df <- cd %>%\n",
        "  group_by(Name) %>%\n",
        "  summarize(Avg_Price = mean(Price), Max_Price = max(Price))\n",
        "\n",
        "summary_df"
      ],
      "metadata": {
        "colab": {
          "base_uri": "https://localhost:8080/"
        },
        "id": "pZ6df_pEDP_-",
        "outputId": "9b3df93d-4700-4ef6-ddcc-511e8c58a92b"
      },
      "execution_count": null,
      "outputs": [
        {
          "output_type": "stream",
          "name": "stdout",
          "text": [
            "# A tibble: 1,804 × 3\n",
            "   Name                                       Avg_Price Max_Price\n",
            "   <chr>                                          <dbl>     <dbl>\n",
            " 1 Ambassador Classic Nova Diesel                  1.35      1.35\n",
            " 2 Audi A3 35 TDI Attraction                      16.5      16.5 \n",
            " 3 Audi A3 35 TDI Premium                         19.2      19.2 \n",
            " 4 Audi A3 35 TDI Premium Plus                    18.9      18.9 \n",
            " 5 Audi A3 35 TDI Technology                      22.5      22.5 \n",
            " 6 Audi A4 1.8 TFSI                                9         9.5 \n",
            " 7 Audi A4 1.8 TFSI Technology Edition            17.5      17.5 \n",
            " 8 Audi A4 2.0 TDI                                15.2      24   \n",
            " 9 Audi A4 2.0 TDI 177 Bhp Premium Plus           20.0      25.8 \n",
            "10 Audi A4 2.0 TDI 177 Bhp Technology Edition     25.5      26   \n",
            "# ℹ 1,794 more rows\n",
            "# ℹ Use `print(n = ...)` to see more rows\n"
          ]
        }
      ]
    }
  ]
}